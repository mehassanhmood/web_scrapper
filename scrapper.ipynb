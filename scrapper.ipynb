{
 "cells": [
  {
   "cell_type": "code",
   "execution_count": 1,
   "id": "018234d7-6e3d-4cba-aa8d-25ed1523682b",
   "metadata": {
    "tags": []
   },
   "outputs": [],
   "source": [
    "import os\n",
    "import requests\n",
    "import re\n",
    "# Code here - Import BeautifulSoup library\n",
    "from bs4 import BeautifulSoup\n",
    "import sys"
   ]
  },
  {
   "cell_type": "code",
   "execution_count": 2,
   "id": "4ff9cd8a-a988-4f34-8757-b4c4209b8c87",
   "metadata": {
    "tags": []
   },
   "outputs": [],
   "source": [
    "# # function to get the html source text of the medium article\n",
    "# def get_page():\n",
    "# \tglobal url\n",
    "\t\n",
    "# \t# Code here - Ask the user to input \"Enter url of a medium article: \" and collect it in url\n",
    "# \turl = input('Please enter the url of a medium article here.')\n",
    "# \t# Code ends here\n",
    "\t\n",
    "# \t# handling possible error\n",
    "# \tif not re.match(r'https?://medium.com/',url):\n",
    "# \t\tprint('Please enter a valid website, or make sure it is a medium article')\n",
    "# \t\tsys.exit(1)\n",
    "\n",
    "# \t# Code here - Call get method in requests object, pass url and collect it in res\n",
    "# \tres = requests.get(url)\n",
    "# \t# Code ends here\n",
    "\n",
    "# \tres.raise_for_status()\n",
    "# \tsoup = BeautifulSoup(res.text, 'html.parser')\n",
    "# \treturn soup"
   ]
  },
  {
   "cell_type": "code",
   "execution_count": 3,
   "id": "db0f8208-bd3d-42fa-962d-6b6d2b7ed148",
   "metadata": {
    "tags": []
   },
   "outputs": [
    {
     "name": "stdin",
     "output_type": "stream",
     "text": [
      "Please enter the url of a medium article here. https://medium.com/@subashgandyer/papa-what-is-a-neural-network-c5e5cc427c7\n"
     ]
    }
   ],
   "source": [
    "url = input('Please enter the url of a medium article here.')"
   ]
  },
  {
   "cell_type": "code",
   "execution_count": 21,
   "id": "f59c9f09-9fd7-4620-954c-e15858e8e247",
   "metadata": {
    "tags": []
   },
   "outputs": [],
   "source": [
    "if not re.match(r'https?://medium.com/',url ):\n",
    "    print('Please enter a valid url.')\n",
    "    sys.exit(1)"
   ]
  },
  {
   "cell_type": "code",
   "execution_count": 22,
   "id": "3f67ed5c-85ad-4f95-9f35-0d228cbb69fc",
   "metadata": {
    "tags": []
   },
   "outputs": [],
   "source": [
    "res = requests.get(url)"
   ]
  },
  {
   "cell_type": "code",
   "execution_count": 23,
   "id": "a3b627db-5373-426c-b09f-5bd826493a1f",
   "metadata": {
    "tags": []
   },
   "outputs": [],
   "source": [
    "# res.raise_for_status()\n",
    "# res.text"
   ]
  },
  {
   "cell_type": "code",
   "execution_count": 24,
   "id": "3425de25-7d37-43e8-9e54-bc4ae40249a1",
   "metadata": {
    "tags": []
   },
   "outputs": [],
   "source": [
    "soup = BeautifulSoup(res.text,'html.parser')"
   ]
  },
  {
   "cell_type": "code",
   "execution_count": 25,
   "id": "e292b5e3-345e-48d3-82d0-c88f54af41d4",
   "metadata": {
    "tags": []
   },
   "outputs": [],
   "source": [
    "# def clean(text):\n",
    "#     rep = {\"<br>\": \"\\n\", \"<br/>\": \"\\n\", \"<li>\":  \"\\n\"}\n",
    "#     rep = dict((re.escape(k), v) for k, v in rep.items()) \n",
    "#     pattern = re.compile(\"|\".join(rep.keys()))\n",
    "#     text = pattern.sub(lambda m: rep[re.escape(m.group(0))], text)\n",
    "#     text = re.sub('\\<(.*?)\\>', '', text)\n",
    "#     return text"
   ]
  },
  {
   "cell_type": "code",
   "execution_count": 26,
   "id": "0f531a16-6cc3-4f49-8185-cc050e38f86a",
   "metadata": {
    "tags": []
   },
   "outputs": [
    {
     "data": {
      "text/plain": [
       "{'<br>': '\\n', '<br/>': '\\n', '<li>': '\\n'}"
      ]
     },
     "execution_count": 26,
     "metadata": {},
     "output_type": "execute_result"
    }
   ],
   "source": [
    "rep = {'<br>' : '\\n', '<br/>':'\\n', '<li>': '\\n'}\n",
    "rep = dict((re.escape(k),v) for k,v in rep.items())\n",
    "rep"
   ]
  },
  {
   "cell_type": "code",
   "execution_count": 27,
   "id": "7266d3de-12f2-4a7f-8c96-d5cc457b0050",
   "metadata": {
    "tags": []
   },
   "outputs": [],
   "source": [
    "pattern = re.compile('|'.join(rep.keys()))"
   ]
  },
  {
   "cell_type": "code",
   "execution_count": 28,
   "id": "f1c3f254-e5d8-4b9c-9c40-747ca22efb5b",
   "metadata": {
    "tags": []
   },
   "outputs": [],
   "source": [
    "text = pattern.sub(lambda m : rep[re.escape(m.group(0))],soup.text)"
   ]
  },
  {
   "cell_type": "code",
   "execution_count": 29,
   "id": "b1c53010-193e-4dac-8830-94fd2fa53811",
   "metadata": {
    "tags": []
   },
   "outputs": [],
   "source": [
    "text = re.sub('\\<(.*?)\\>','',text)"
   ]
  },
  {
   "cell_type": "code",
   "execution_count": 30,
   "id": "cac5c2ec-b8b0-4b42-9bff-7cfefd8caa84",
   "metadata": {},
   "outputs": [],
   "source": [
    "# def collect_text(soup):\n",
    "# \ttext = f'url: {url}\\n\\n'\n",
    "# \tpara_text = soup.find_all('p')\n",
    "# \tprint(f\"paragraphs text = \\n {para_text}\")\n",
    "# \tfor para in para_text:\n",
    "# \t\ttext += f\"{para.text}\\n\\n\"\n",
    "# \treturn text"
   ]
  },
  {
   "cell_type": "code",
   "execution_count": 31,
   "id": "9dd5e0b2-c291-4d31-b89e-289e2b6d051f",
   "metadata": {
    "tags": []
   },
   "outputs": [
    {
     "data": {
      "text/plain": [
       "'url: https://medium.com/@subashgandyer/papa-what-is-a-neural-network-c5e5cc427c7\\n\\n'"
      ]
     },
     "execution_count": 31,
     "metadata": {},
     "output_type": "execute_result"
    }
   ],
   "source": [
    "text_url = f'url: {url}\\n\\n'\n",
    "text_url"
   ]
  },
  {
   "cell_type": "code",
   "execution_count": 32,
   "id": "8c27bcb2-76ca-48e6-bd80-1ff484626680",
   "metadata": {
    "tags": []
   },
   "outputs": [],
   "source": [
    "para_text = soup.find_all('p')\n",
    "\n",
    "for i in para_text:\n",
    "    text_url+=f\"{i.text}\\n\\n\""
   ]
  },
  {
   "cell_type": "code",
   "execution_count": 33,
   "id": "aa6dd51e-f4be-44a9-90f2-68767ebb8306",
   "metadata": {
    "tags": []
   },
   "outputs": [],
   "source": [
    "# def save_file(text):\n",
    "#     if not os.path.exists('./scraped_articles'):\n",
    "#         os.mkdir('./scraped_articles')\n",
    "#     name = url.split(\"/\")[-1]\n",
    "#     print(name)\n",
    "#     fname = f'scraped_articles/{name}.txt'\n",
    "\t\n",
    "# \t# Code here - write a file using with (2 lines)\n",
    "#     with open(fname,'w') as file:\n",
    "#         file.write(text)"
   ]
  },
  {
   "cell_type": "code",
   "execution_count": 34,
   "id": "4897cc8a-6b22-496b-94c3-26aa4f395d29",
   "metadata": {
    "tags": []
   },
   "outputs": [],
   "source": [
    "if not os.path.exists('./notebook_scrapper'):\n",
    "    os.mkdir('./notebook_scrapper')"
   ]
  },
  {
   "cell_type": "code",
   "execution_count": 35,
   "id": "fd96462a-f081-4f35-868c-4bf12428a22a",
   "metadata": {
    "tags": []
   },
   "outputs": [],
   "source": [
    "name = url.split('/')[-1]"
   ]
  },
  {
   "cell_type": "code",
   "execution_count": 36,
   "id": "623d2520-aa6e-4f9b-87b3-2cab610d32a4",
   "metadata": {
    "tags": []
   },
   "outputs": [],
   "source": [
    "fname = f'notebook_scrapper/{name}.txt'"
   ]
  },
  {
   "cell_type": "code",
   "execution_count": 37,
   "id": "c266356b-6155-45a8-a1d2-cc3cdcc2f92b",
   "metadata": {
    "tags": []
   },
   "outputs": [],
   "source": [
    "with open(fname,'w') as file:\n",
    "    file.write(text_url)"
   ]
  },
  {
   "cell_type": "code",
   "execution_count": null,
   "id": "8faa5306-462a-4705-8fd5-d08cfbf32ec4",
   "metadata": {},
   "outputs": [],
   "source": []
  }
 ],
 "metadata": {
  "kernelspec": {
   "display_name": "Python 3 (ipykernel)",
   "language": "python",
   "name": "python3"
  },
  "language_info": {
   "codemirror_mode": {
    "name": "ipython",
    "version": 3
   },
   "file_extension": ".py",
   "mimetype": "text/x-python",
   "name": "python",
   "nbconvert_exporter": "python",
   "pygments_lexer": "ipython3",
   "version": "3.11.1"
  }
 },
 "nbformat": 4,
 "nbformat_minor": 5
}
